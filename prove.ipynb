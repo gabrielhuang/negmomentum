{
 "cells": [
  {
   "cell_type": "code",
   "execution_count": 52,
   "metadata": {},
   "outputs": [],
   "source": [
    "\n",
    "import sympy\n",
    "sympy.init_printing()"
   ]
  },
  {
   "cell_type": "code",
   "execution_count": 54,
   "metadata": {},
   "outputs": [
    {
     "data": {
      "image/png": "[encoded data removed]",
      "text/latex": [
       "$$\\left ( \\alpha, \\quad \\beta\\right )$$"
      ],
      "text/plain": [
       "(α, β)"
      ]
     },
     "execution_count": 54,
     "metadata": {},
     "output_type": "execute_result"
    }
   ],
   "source": [
    "beta = sympy.Symbol('beta')\n",
    "alpha = sympy.Symbol('alpha')\n",
    "alpha, beta"
   ]
  },
  {
   "cell_type": "code",
   "execution_count": 58,
   "metadata": {},
   "outputs": [],
   "source": [
    "def complex_sqrt(a, b):\n",
    "    modulus = sympy.sqrt(a**2 + b**2)\n",
    "    real = sympy.sqrt((modulus + a)/2)\n",
    "    imag = sympy.sqrt((modulus - a)/2)\n",
    "    return (real, imag)"
   ]
  },
  {
   "cell_type": "code",
   "execution_count": 59,
   "metadata": {},
   "outputs": [
    {
     "data": {
      "image/png": "[encoded data removed]",
      "text/latex": [
       "$$\\left ( - \\alpha^{2} + \\beta^{2} + 2 \\beta + 1, \\quad \\alpha \\left(2 \\beta + 2\\right)\\right )$$"
      ],
      "text/plain": [
       "⎛   2    2                       ⎞\n",
       "⎝- α  + β  + 2⋅β + 1, α⋅(2⋅β + 2)⎠"
      ]
     },
     "execution_count": 59,
     "metadata": {},
     "output_type": "execute_result"
    }
   ],
   "source": [
    "r1 = 1+2*beta+beta**2-alpha**2\n",
    "i1 = 2*(1+beta)*alpha\n",
    "r1, i1"
   ]
  },
  {
   "cell_type": "code",
   "execution_count": 60,
   "metadata": {},
   "outputs": [
    {
     "data": {
      "image/png": "[encoded data removed]",
      "text/latex": [
       "$$\\left ( \\sqrt{- \\frac{\\alpha^{2}}{2} + \\frac{\\beta^{2}}{2} + \\beta + \\frac{\\sqrt{\\alpha^{2} \\left(2 \\beta + 2\\right)^{2} + \\left(- \\alpha^{2} + \\beta^{2} + 2 \\beta + 1\\right)^{2}}}{2} + \\frac{1}{2}}, \\quad \\sqrt{\\frac{\\alpha^{2}}{2} - \\frac{\\beta^{2}}{2} - \\beta + \\frac{\\sqrt{\\alpha^{2} \\left(2 \\beta + 2\\right)^{2} + \\left(- \\alpha^{2} + \\beta^{2} + 2 \\beta + 1\\right)^{2}}}{2} - \\frac{1}{2}}\\right )$$"
      ],
      "text/plain": [
       "⎛       __________________________________________________________________    \n",
       "⎜      ╱                     ________________________________________         \n",
       "⎜     ╱                     ╱                                      2          \n",
       "⎜    ╱      2    2         ╱   2          2   ⎛   2    2          ⎞           \n",
       "⎜   ╱      α    β        ╲╱   α ⋅(2⋅β + 2)  + ⎝- α  + β  + 2⋅β + 1⎠     1     \n",
       "⎜  ╱     - ── + ── + β + ──────────────────────────────────────────── + ─ ,   \n",
       "⎝╲╱        2    2                             2                         2   ╲╱\n",
       "\n",
       "     ________________________________________________________________⎞\n",
       "    ╱                   ________________________________________     ⎟\n",
       "   ╱                   ╱                                      2      ⎟\n",
       "  ╱    2    2         ╱   2          2   ⎛   2    2          ⎞       ⎟\n",
       " ╱    α    β        ╲╱   α ⋅(2⋅β + 2)  + ⎝- α  + β  + 2⋅β + 1⎠     1 ⎟\n",
       "╱     ── - ── - β + ──────────────────────────────────────────── - ─ ⎟\n",
       "      2    2                             2                         2 ⎠"
      ]
     },
     "execution_count": 60,
     "metadata": {},
     "output_type": "execute_result"
    }
   ],
   "source": [
    "r2, i2 = complex_sqrt(r, i)\n",
    "r2, i2"
   ]
  },
  {
   "cell_type": "code",
   "execution_count": 63,
   "metadata": {},
   "outputs": [
    {
     "data": {
      "image/png": "[encoded data removed]",
      "text/latex": [
       "$$\\left ( \\beta + \\sqrt{- \\frac{\\alpha^{2}}{2} + \\frac{\\beta^{2}}{2} + \\beta + \\frac{\\sqrt{\\alpha^{2} \\left(2 \\beta + 2\\right)^{2} + \\left(- \\alpha^{2} + \\beta^{2} + 2 \\beta + 1\\right)^{2}}}{2} + \\frac{1}{2}} + 1, \\quad \\alpha + \\sqrt{\\frac{\\alpha^{2}}{2} - \\frac{\\beta^{2}}{2} - \\beta + \\frac{\\sqrt{\\alpha^{2} \\left(2 \\beta + 2\\right)^{2} + \\left(- \\alpha^{2} + \\beta^{2} + 2 \\beta + 1\\right)^{2}}}{2} - \\frac{1}{2}}\\right )$$"
      ],
      "text/plain": [
       "⎛           __________________________________________________________________\n",
       "⎜          ╱                     ________________________________________     \n",
       "⎜         ╱                     ╱                                      2      \n",
       "⎜        ╱      2    2         ╱   2          2   ⎛   2    2          ⎞       \n",
       "⎜       ╱      α    β        ╲╱   α ⋅(2⋅β + 2)  + ⎝- α  + β  + 2⋅β + 1⎠     1 \n",
       "⎜β +   ╱     - ── + ── + β + ──────────────────────────────────────────── + ─ \n",
       "⎝    ╲╱        2    2                             2                         2 \n",
       "\n",
       "                 _____________________________________________________________\n",
       "                ╱                   ________________________________________  \n",
       "               ╱                   ╱                                      2   \n",
       "              ╱    2    2         ╱   2          2   ⎛   2    2          ⎞    \n",
       "             ╱    α    β        ╲╱   α ⋅(2⋅β + 2)  + ⎝- α  + β  + 2⋅β + 1⎠    \n",
       " + 1, α +   ╱     ── - ── - β + ──────────────────────────────────────────── -\n",
       "          ╲╱      2    2                             2                        \n",
       "\n",
       "___⎞\n",
       "   ⎟\n",
       "   ⎟\n",
       "   ⎟\n",
       " 1 ⎟\n",
       " ─ ⎟\n",
       " 2 ⎠"
      ]
     },
     "execution_count": 63,
     "metadata": {},
     "output_type": "execute_result"
    }
   ],
   "source": [
    "r3 = 1+beta+r2\n",
    "i3 = alpha+i2\n",
    "r3, i3"
   ]
  },
  {
   "cell_type": "code",
   "execution_count": 64,
   "metadata": {},
   "outputs": [
    {
     "data": {
      "image/png": "[encoded data removed]",
      "text/latex": [
       "$$\\left(\\alpha + \\sqrt{\\frac{\\alpha^{2}}{2} - \\frac{\\beta^{2}}{2} - \\beta + \\frac{\\sqrt{\\alpha^{2} \\left(2 \\beta + 2\\right)^{2} + \\left(- \\alpha^{2} + \\beta^{2} + 2 \\beta + 1\\right)^{2}}}{2} - \\frac{1}{2}}\\right)^{2} + \\left(\\beta + \\sqrt{- \\frac{\\alpha^{2}}{2} + \\frac{\\beta^{2}}{2} + \\beta + \\frac{\\sqrt{\\alpha^{2} \\left(2 \\beta + 2\\right)^{2} + \\left(- \\alpha^{2} + \\beta^{2} + 2 \\beta + 1\\right)^{2}}}{2} + \\frac{1}{2}} + 1\\right)^{2}$$"
      ],
      "text/plain": [
       "                                                                             2\n",
       "⎛           ________________________________________________________________⎞ \n",
       "⎜          ╱                   ________________________________________     ⎟ \n",
       "⎜         ╱                   ╱                                      2      ⎟ \n",
       "⎜        ╱    2    2         ╱   2          2   ⎛   2    2          ⎞       ⎟ \n",
       "⎜       ╱    α    β        ╲╱   α ⋅(2⋅β + 2)  + ⎝- α  + β  + 2⋅β + 1⎠     1 ⎟ \n",
       "⎜α +   ╱     ── - ── - β + ──────────────────────────────────────────── - ─ ⎟ \n",
       "⎝    ╲╱      2    2                             2                         2 ⎠ \n",
       "\n",
       "                                                                              \n",
       "   ⎛           _______________________________________________________________\n",
       "   ⎜          ╱                     ________________________________________  \n",
       "   ⎜         ╱                     ╱                                      2   \n",
       "   ⎜        ╱      2    2         ╱   2          2   ⎛   2    2          ⎞    \n",
       "   ⎜       ╱      α    β        ╲╱   α ⋅(2⋅β + 2)  + ⎝- α  + β  + 2⋅β + 1⎠    \n",
       " + ⎜β +   ╱     - ── + ── + β + ──────────────────────────────────────────── +\n",
       "   ⎝    ╲╱        2    2                             2                        \n",
       "\n",
       "        2\n",
       "___    ⎞ \n",
       "       ⎟ \n",
       "       ⎟ \n",
       "       ⎟ \n",
       " 1     ⎟ \n",
       " ─  + 1⎟ \n",
       " 2     ⎠ "
      ]
     },
     "execution_count": 64,
     "metadata": {},
     "output_type": "execute_result"
    }
   ],
   "source": [
    "value = r3**2 + i3**2\n",
    "value"
   ]
  },
  {
   "cell_type": "code",
   "execution_count": 74,
   "metadata": {},
   "outputs": [
    {
     "data": {
      "image/png": "[encoded data removed]",
      "text/latex": [
       "$$- \\frac{\\beta^{2}}{2} - \\beta + \\left(\\beta + \\sqrt{\\frac{\\beta^{2}}{2} + \\beta + \\frac{\\sqrt{\\left(\\beta^{2} + 2 \\beta + 1\\right)^{2}}}{2} + \\frac{1}{2}} + 1\\right)^{2} + \\frac{\\sqrt{\\left(\\beta^{2} + 2 \\beta + 1\\right)^{2}}}{2} - \\frac{1}{2}$$"
      ],
      "text/plain": [
       "                                                                2             \n",
       "           ⎛           ____________________________________    ⎞              \n",
       "           ⎜          ╱              _________________         ⎟        ______\n",
       "           ⎜         ╱              ╱               2          ⎟       ╱      \n",
       "   2       ⎜        ╱    2         ╱  ⎛ 2          ⎞           ⎟      ╱  ⎛ 2  \n",
       "  β        ⎜       ╱    β        ╲╱   ⎝β  + 2⋅β + 1⎠     1     ⎟    ╲╱   ⎝β  +\n",
       "- ── - β + ⎜β +   ╱     ── + β + ───────────────────── + ─  + 1⎟  + ──────────\n",
       "  2        ⎝    ╲╱      2                  2             2     ⎠              \n",
       "\n",
       "               \n",
       "               \n",
       "___________    \n",
       "         2     \n",
       "        ⎞      \n",
       " 2⋅β + 1⎠     1\n",
       "─────────── - ─\n",
       "2             2"
      ]
     },
     "execution_count": 74,
     "metadata": {},
     "output_type": "execute_result"
    }
   ],
   "source": [
    "value.subs(alpha, 0).simplify()"
   ]
  },
  {
   "cell_type": "code",
   "execution_count": 76,
   "metadata": {},
   "outputs": [
    {
     "data": {
      "image/png": "[encoded data removed]",
      "text/latex": [
       "$$\\alpha^{2} + \\sqrt{2} \\alpha \\sqrt{\\alpha^{2} - \\beta^{2} - 2 \\beta + \\sqrt{\\alpha^{4} + 2 \\alpha^{2} \\beta^{2} + 4 \\alpha^{2} \\beta + 2 \\alpha^{2} + \\beta^{4} + 4 \\beta^{3} + 6 \\beta^{2} + 4 \\beta + 1} - 1} + \\beta^{2} + \\sqrt{2} \\beta \\sqrt{- \\alpha^{2} + \\beta^{2} + 2 \\beta + \\sqrt{\\alpha^{4} + 2 \\alpha^{2} \\beta^{2} + 4 \\alpha^{2} \\beta + 2 \\alpha^{2} + \\beta^{4} + 4 \\beta^{3} + 6 \\beta^{2} + 4 \\beta + 1} + 1} + 2 \\beta + \\sqrt{2} \\sqrt{- \\alpha^{2} + \\beta^{2} + 2 \\beta + \\sqrt{\\alpha^{4} + 2 \\alpha^{2} \\beta^{2} + 4 \\alpha^{2} \\beta + 2 \\alpha^{2} + \\beta^{4} + 4 \\beta^{3} + 6 \\beta^{2} + 4 \\beta + 1} + 1} + \\sqrt{\\alpha^{4} + 2 \\alpha^{2} \\beta^{2} + 4 \\alpha^{2} \\beta + 2 \\alpha^{2} + \\beta^{4} + 4 \\beta^{3} + 6 \\beta^{2} + 4 \\beta + 1} + 1$$"
      ],
      "text/plain": [
       "              ________________________________________________________________\n",
       "             ╱                    ____________________________________________\n",
       " 2          ╱   2    2           ╱  4      2  2      2        2    4      3   \n",
       "α  + √2⋅α⋅╲╱   α  - β  - 2⋅β + ╲╱  α  + 2⋅α ⋅β  + 4⋅α ⋅β + 2⋅α  + β  + 4⋅β  + \n",
       "\n",
       "____________________                 _________________________________________\n",
       "_______________                     ╱                      ___________________\n",
       "   2                    2          ╱     2    2           ╱  4      2  2      \n",
       "6⋅β  + 4⋅β + 1  - 1  + β  + √2⋅β⋅╲╱   - α  + β  + 2⋅β + ╲╱  α  + 2⋅α ⋅β  + 4⋅α\n",
       "\n",
       "_____________________________________________                _________________\n",
       "________________________________________                    ╱                 \n",
       "2        2    4      3      2                              ╱     2    2       \n",
       " ⋅β + 2⋅α  + β  + 4⋅β  + 6⋅β  + 4⋅β + 1  + 1  + 2⋅β + √2⋅╲╱   - α  + β  + 2⋅β \n",
       "\n",
       "_____________________________________________________________________         \n",
       "     ___________________________________________________________           ___\n",
       "    ╱  4      2  2      2        2    4      3      2                     ╱  4\n",
       "+ ╲╱  α  + 2⋅α ⋅β  + 4⋅α ⋅β + 2⋅α  + β  + 4⋅β  + 6⋅β  + 4⋅β + 1  + 1  + ╲╱  α \n",
       "\n",
       "                                                            \n",
       "________________________________________________________    \n",
       "      2  2      2        2    4      3      2               \n",
       " + 2⋅α ⋅β  + 4⋅α ⋅β + 2⋅α  + β  + 4⋅β  + 6⋅β  + 4⋅β + 1  + 1"
      ]
     },
     "execution_count": 76,
     "metadata": {},
     "output_type": "execute_result"
    }
   ],
   "source": [
    "value.expand().simplify()"
   ]
  }
 ],
 "metadata": {
  "kernelspec": {
   "display_name": "Python 2",
   "language": "python",
   "name": "python2"
  },
  "language_info": {
   "codemirror_mode": {
    "name": "ipython",
    "version": 2
   },
   "file_extension": ".py",
   "mimetype": "text/x-python",
   "name": "python",
   "nbconvert_exporter": "python",
   "pygments_lexer": "ipython2",
   "version": "2.7.15"
  }
 },
 "nbformat": 4,
 "nbformat_minor": 2
}
